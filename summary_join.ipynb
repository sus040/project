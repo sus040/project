{
  "nbformat": 4,
  "nbformat_minor": 0,
  "metadata": {
    "colab": {
      "provenance": []
    },
    "kernelspec": {
      "name": "python3",
      "display_name": "Python 3"
    },
    "language_info": {
      "name": "python"
    }
  },
  "cells": [
    {
      "cell_type": "markdown",
      "source": [
        "This file includes a summary of joins in the Python library, including definitions, disadvantages, and example code for each join type."
      ],
      "metadata": {
        "id": "AYdeoc9AZnvb"
      }
    },
    {
      "cell_type": "code",
      "source": [
        "import pandas as pd\n"
      ],
      "metadata": {
        "id": "CE_4eWSuU4pL"
      },
      "execution_count": 15,
      "outputs": []
    },
    {
      "cell_type": "code",
      "source": [
        "# Load data\n",
        "data1 = {\n",
        "    'key': ['A', 'B', 'C', 'D'],\n",
        "    'value': [10, 20, 30, 40]\n",
        "}\n",
        "\n",
        "df1 = pd.DataFrame(data1)\n",
        "print(\"data1\")\n",
        "print(df1, \"\\n\")\n",
        "\n",
        "data2 = {\n",
        "    'key': ['B', 'C', 'D', 'E'],\n",
        "    'value': [50, 60, 70, 80]\n",
        "}\n",
        "df2 = pd.DataFrame(data2)\n",
        "print(\"data2\")\n",
        "print(df2)"
      ],
      "metadata": {
        "colab": {
          "base_uri": "https://localhost:8080/"
        },
        "id": "GpJHupgKX5KC",
        "outputId": "da4231ed-34b5-4514-c9fa-b1662b05f012"
      },
      "execution_count": 16,
      "outputs": [
        {
          "output_type": "stream",
          "name": "stdout",
          "text": [
            "data1\n",
            "  key  value\n",
            "0   A     10\n",
            "1   B     20\n",
            "2   C     30\n",
            "3   D     40 \n",
            "\n",
            "data2\n",
            "  key  value\n",
            "0   B     50\n",
            "1   C     60\n",
            "2   D     70\n",
            "3   E     80\n"
          ]
        }
      ]
    },
    {
      "cell_type": "markdown",
      "source": [
        "**Inner join**\n",
        "\n",
        "*   An inner join merges two dataframes based on keys that are common to both.\n",
        "*   Feature: Only the rows that exist in both dataframes will be included in the result.\n",
        "*   Disadvantange: Any data present in only one dataframe will be excluded, potentially resulting in the loss of important information.\n",
        "\n"
      ],
      "metadata": {
        "id": "8TaoSDW5UlX2"
      }
    },
    {
      "cell_type": "code",
      "execution_count": 3,
      "metadata": {
        "colab": {
          "base_uri": "https://localhost:8080/"
        },
        "id": "gk-K37cbUkqz",
        "outputId": "dcd6b5c5-4932-4571-c85f-60e22959c0e5"
      },
      "outputs": [
        {
          "output_type": "stream",
          "name": "stdout",
          "text": [
            "Inner Join Result:\n",
            "  key  value_df1  value_df2\n",
            "0   B         20         50\n",
            "1   C         30         60\n",
            "2   D         40         70\n"
          ]
        }
      ],
      "source": [
        "inner_join = pd.merge(df1, df2, on='key', how='inner')\n",
        "print(\"Inner Join Result:\")\n",
        "print(inner_join)"
      ]
    },
    {
      "cell_type": "code",
      "source": [
        "default_join = pd.merge(df1, df2, on='key') # default is inner_join\n",
        "print(\"Default Join Result:\")\n",
        "print(default_join)"
      ],
      "metadata": {
        "colab": {
          "base_uri": "https://localhost:8080/"
        },
        "id": "k5t0CmyDarUE",
        "outputId": "390a883b-a98c-41e5-fd56-1887dfc3f81c"
      },
      "execution_count": 19,
      "outputs": [
        {
          "output_type": "stream",
          "name": "stdout",
          "text": [
            "Default Join Result:\n",
            "  key  value_x  value_y\n",
            "0   B       20       50\n",
            "1   C       30       60\n",
            "2   D       40       70\n"
          ]
        }
      ]
    },
    {
      "cell_type": "markdown",
      "source": [
        "**Outer join**\n",
        "\n",
        "*   An outer join combines two dataframes and includes all keys from both, even if there is no match.\n",
        "*   Feature: It includes all rows from both dataframes, with NaN for missing values where there is no match.\n",
        "*   Disadvantage: It can create many NaN values and might be slower and use more memory than other joins.\n"
      ],
      "metadata": {
        "id": "lCwAqStpUnXX"
      }
    },
    {
      "cell_type": "code",
      "source": [
        "outer_join = pd.merge(df1, df2, on='key', how='outer')\n",
        "print(\"Outer Join Result:\")\n",
        "print(outer_join)"
      ],
      "metadata": {
        "colab": {
          "base_uri": "https://localhost:8080/"
        },
        "id": "NKC4xHSKUnyG",
        "outputId": "259a16b8-f3b5-424a-8fd2-d15aadeada93"
      },
      "execution_count": 13,
      "outputs": [
        {
          "output_type": "stream",
          "name": "stdout",
          "text": [
            "Outer Join Result:\n",
            "  key  value_x  value_y\n",
            "0   A     10.0      NaN\n",
            "1   B     20.0     50.0\n",
            "2   C     30.0     60.0\n",
            "3   D     40.0     70.0\n",
            "4   E      NaN     80.0\n"
          ]
        }
      ]
    },
    {
      "cell_type": "markdown",
      "source": [
        "**Left join**\n",
        "\n",
        "*   A left join combines two dataframes, including all keys from the left dataframe and matching keys from the right dataframe.\n",
        "*   Feature: It includes all rows from the left dataframe, with NaN for columns from the right dataframe where there is no match.\n",
        "*   Disadvantage: It can result in NaN values for unmatched rows, and the size of the result can increase, using more memory compared to an inner join.\n"
      ],
      "metadata": {
        "id": "bUs3DBA1UqE0"
      }
    },
    {
      "cell_type": "code",
      "source": [
        "left_join = pd.merge(df1, df2, on='key', how='left')\n",
        "print(\"Left Join Result:\")\n",
        "print(left_join)"
      ],
      "metadata": {
        "colab": {
          "base_uri": "https://localhost:8080/"
        },
        "id": "JRgZRYBNUrsE",
        "outputId": "2668b67b-f258-4b3c-89cb-f8904af4417f"
      },
      "execution_count": 14,
      "outputs": [
        {
          "output_type": "stream",
          "name": "stdout",
          "text": [
            "Left Join Result:\n",
            "  key  value_x  value_y\n",
            "0   A       10      NaN\n",
            "1   B       20     50.0\n",
            "2   C       30     60.0\n",
            "3   D       40     70.0\n"
          ]
        }
      ]
    },
    {
      "cell_type": "markdown",
      "source": [
        "**Right join**\n",
        "\n",
        "*   A right join combines two dataframes, including all keys from the right dataframe and matching keys from the left dataframe.\n",
        "*   Feature: It includes all rows from the right dataframe, with NaN for columns from the left dataframe where there is no match.\n",
        "*   Disadvantage: It can result in NaN values for unmatched rows, and the size of the result can increase, using more memory compared to an inner join. Additionally, right joins can sometimes be less intuitive to interpret."
      ],
      "metadata": {
        "id": "5iel2nluXyzV"
      }
    },
    {
      "cell_type": "code",
      "source": [
        "right_join = pd.merge(df1, df2, on='key', how='right')\n",
        "print(\"Right Join Result:\")\n",
        "print(right_join)"
      ],
      "metadata": {
        "colab": {
          "base_uri": "https://localhost:8080/"
        },
        "id": "5duNYcmOYAr-",
        "outputId": "4b88bfdf-3c88-4ab4-f2c4-fa0662d9e0c9"
      },
      "execution_count": 17,
      "outputs": [
        {
          "output_type": "stream",
          "name": "stdout",
          "text": [
            "Right Join Result:\n",
            "  key  value_x  value_y\n",
            "0   B     20.0       50\n",
            "1   C     30.0       60\n",
            "2   D     40.0       70\n",
            "3   E      NaN       80\n"
          ]
        }
      ]
    }
  ]
}